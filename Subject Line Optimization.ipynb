{
 "cells": [
  {
   "cell_type": "code",
   "execution_count": 12,
   "id": "2e4004c9-3c20-45b2-abea-9fde6d056cd6",
   "metadata": {},
   "outputs": [],
   "source": [
    "# MLP \n",
    "from keras.models import Sequential\n",
    "from keras.layers import Dense\n",
    "from keras.preprocessing.text import Tokenizer\n",
    "from sklearn.model_selection import train_test_split\n",
    "from keras.preprocessing.sequence import pad_sequences"
   ]
  },
  {
   "cell_type": "code",
   "execution_count": 2,
   "id": "c697d3f0-2c86-4aeb-85be-d6d5e4ad493a",
   "metadata": {},
   "outputs": [],
   "source": [
    "import mailbox\n",
    "\n",
    "# Path to your mbox file\n",
    "mbox_path = 'promotions.mbox'\n",
    "\n",
    "# Open the mbox file\n",
    "mbox = mailbox.mbox(mbox_path)\n",
    "\n",
    "subject_data = []\n",
    "\n",
    "# Iterate through messages in the mbox file\n",
    "for message in mbox:\n",
    "    # Access subject, sender, and other headers\n",
    "    subject = message['subject']\n",
    "    sender = message['from']\n",
    "    date = message['date']\n",
    "    \n",
    "    subject_data.append(subject)\n",
    "\n",
    "# Close the mbox file\n",
    "mbox.close()"
   ]
  },
  {
   "cell_type": "code",
   "execution_count": 23,
   "id": "37080891-bdd5-4097-953e-e29526e44db4",
   "metadata": {},
   "outputs": [
    {
     "name": "stdout",
     "output_type": "stream",
     "text": [
      "Skipping subject due to error: expected string or bytes-like object, got 'NoneType'\n",
      "Skipping subject due to error: unknown encoding: unknown-8bit\n",
      "Skipping subject due to error: unknown encoding: unknown-8bit\n",
      "Skipping subject due to error: unknown encoding: unknown-8bit\n",
      "Skipping subject due to error: unknown encoding: unknown-8bit\n",
      "Skipping subject due to error: unknown encoding: unknown-8bit\n",
      "Skipping subject due to error: unknown encoding: unknown-8bit\n",
      "Skipping subject due to error: unknown encoding: unknown-8bit\n"
     ]
    }
   ],
   "source": [
    "def clean_encoded_subjects(subjects):\n",
    "    cleaned_subjects = []\n",
    "\n",
    "    for subject in subjects:\n",
    "        try:\n",
    "            # Decode the subject\n",
    "            decoded_fragments = decode_header(subject)\n",
    "            decoded_subject = ''\n",
    "\n",
    "            for fragment, encoding in decoded_fragments:\n",
    "                if fragment is None:\n",
    "                    continue  # Skip any None fragments\n",
    "                if isinstance(fragment, bytes):\n",
    "                    # Decode fragment with the provided encoding if given, otherwise assume utf-8\n",
    "                    encoding = encoding or 'utf-8'\n",
    "                    fragment = fragment.decode(encoding)\n",
    "                decoded_subject += fragment\n",
    "\n",
    "            # Replace MIME-specific underscore characters with spaces\n",
    "            decoded_subject = decoded_subject.replace('_', ' ')\n",
    "            cleaned_subjects.append(decoded_subject)\n",
    "        except Exception as e:\n",
    "            print(f\"Skipping subject due to error: {e}\")\n",
    "            # Optionally, append a placeholder or log the error\n",
    "            cleaned_subjects.append(\"Subject decoding failed\")\n",
    "\n",
    "    return cleaned_subjects\n",
    "\n",
    "cleaned_subjects = clean_encoded_subjects(subject_data)"
   ]
  },
  {
   "cell_type": "code",
   "execution_count": 25,
   "id": "7165d915-d818-41c5-abdc-514a181ba76e",
   "metadata": {},
   "outputs": [],
   "source": [
    "import numpy as np\n",
    "\n",
    "length_data = len(cleaned_subjects)\n",
    "\n",
    "email_open_rates = np.random.rand(length_data)"
   ]
  },
  {
   "cell_type": "code",
   "execution_count": 26,
   "id": "0bed374a-54db-403c-9c14-fd98d8b2df88",
   "metadata": {},
   "outputs": [
    {
     "data": {
      "text/plain": [
       "30211"
      ]
     },
     "execution_count": 26,
     "metadata": {},
     "output_type": "execute_result"
    }
   ],
   "source": [
    "len(cleaned_subjects)"
   ]
  },
  {
   "cell_type": "code",
   "execution_count": 27,
   "id": "77e7c2f8-ac66-4cca-a798-438d484bb277",
   "metadata": {},
   "outputs": [
    {
     "data": {
      "text/plain": [
       "30211"
      ]
     },
     "execution_count": 27,
     "metadata": {},
     "output_type": "execute_result"
    }
   ],
   "source": [
    "len(email_open_rates)"
   ]
  },
  {
   "cell_type": "code",
   "execution_count": 31,
   "id": "57bb2c17-c0b7-478d-ba43-7f500ff1226c",
   "metadata": {},
   "outputs": [],
   "source": [
    "# Tokenize and vectorize the text data\n",
    "tokenizer = Tokenizer(num_words=5000) # 5000 most common words considered - will test adjusting this later - probably more words needed\n",
    "tokenizer.fit_on_texts(cleaned_subjects)\n",
    "sequences = tokenizer.texts_to_sequences(cleaned_subjects)\n",
    "data = pad_sequences(sequences, maxlen=100) # Truncates to first 100 characters - should be fine for email subject lines\n",
    "\n",
    "# Split the data into training and test sets\n",
    "X_train, X_test, y_train, y_test = train_test_split(data, email_open_rates, test_size=0.2, random_state=42)"
   ]
  },
  {
   "cell_type": "code",
   "execution_count": 32,
   "id": "85bd17db-f737-4f8c-8c34-c658b082837a",
   "metadata": {},
   "outputs": [],
   "source": [
    "# Define the MLP architecture\n",
    "model = Sequential()\n",
    "model.add(Dense(512, activation='relu', input_shape=(100,)))\n",
    "model.add(Dense(128, activation='relu'))\n",
    "model.add(Dense(1, activation='sigmoid'))"
   ]
  },
  {
   "cell_type": "code",
   "execution_count": 33,
   "id": "2dbe359e-be67-4bac-b1c4-2e8a5815c844",
   "metadata": {},
   "outputs": [
    {
     "name": "stdout",
     "output_type": "stream",
     "text": [
      "Epoch 1/10\n",
      "756/756 [==============================] - 4s 4ms/step - loss: 0.3333 - val_loss: 0.3311\n",
      "Epoch 2/10\n",
      "756/756 [==============================] - 2s 3ms/step - loss: 0.3323 - val_loss: 0.3318\n",
      "Epoch 3/10\n",
      "756/756 [==============================] - 3s 3ms/step - loss: 0.3327 - val_loss: 0.3353\n",
      "Epoch 4/10\n",
      "756/756 [==============================] - 2s 3ms/step - loss: 0.3320 - val_loss: 0.3321\n",
      "Epoch 5/10\n",
      "756/756 [==============================] - 2s 3ms/step - loss: 0.3323 - val_loss: 0.3334\n",
      "Epoch 6/10\n",
      "756/756 [==============================] - 3s 3ms/step - loss: 0.3361 - val_loss: 0.3314\n",
      "Epoch 7/10\n",
      "756/756 [==============================] - 3s 3ms/step - loss: 0.3345 - val_loss: 0.3310\n",
      "Epoch 8/10\n",
      "756/756 [==============================] - 3s 3ms/step - loss: 0.3356 - val_loss: 0.3312\n",
      "Epoch 9/10\n",
      "756/756 [==============================] - 3s 4ms/step - loss: 0.3325 - val_loss: 0.3310\n",
      "Epoch 10/10\n",
      "756/756 [==============================] - 2s 3ms/step - loss: 0.3330 - val_loss: 0.3333\n"
     ]
    },
    {
     "data": {
      "text/plain": [
       "<keras.src.callbacks.History at 0x19891b526d0>"
      ]
     },
     "execution_count": 33,
     "metadata": {},
     "output_type": "execute_result"
    }
   ],
   "source": [
    "# Compile the model\n",
    "model.compile(loss='mean_squared_error', optimizer='adam')  # Regression loss function\n",
    "\n",
    "# Train the model\n",
    "model.fit(X_train, y_train, epochs=10, batch_size=32, validation_data=(X_test, y_test))"
   ]
  },
  {
   "cell_type": "code",
   "execution_count": 35,
   "id": "1c3cdf24-5635-45cf-8f0f-5049b5549ac7",
   "metadata": {},
   "outputs": [
    {
     "name": "stdout",
     "output_type": "stream",
     "text": [
      "189/189 [==============================] - 0s 2ms/step - loss: 0.3333\n",
      "Test Loss: 0.3333\n",
      "189/189 [==============================] - 0s 2ms/step\n"
     ]
    }
   ],
   "source": [
    "# Evaluate the model\n",
    "loss = model.evaluate(X_test, y_test)\n",
    "print(f\"Test Loss: {loss:.4f}\")\n",
    "\n",
    "# Predict continuous values on new data\n",
    "predictions = model.predict(X_test)"
   ]
  }
 ],
 "metadata": {
  "kernelspec": {
   "display_name": "Python 3 (ipykernel)",
   "language": "python",
   "name": "python3"
  },
  "language_info": {
   "codemirror_mode": {
    "name": "ipython",
    "version": 3
   },
   "file_extension": ".py",
   "mimetype": "text/x-python",
   "name": "python",
   "nbconvert_exporter": "python",
   "pygments_lexer": "ipython3",
   "version": "3.11.5"
  }
 },
 "nbformat": 4,
 "nbformat_minor": 5
}
